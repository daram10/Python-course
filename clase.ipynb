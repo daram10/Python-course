{
 "cells": [
  {
   "cell_type": "markdown",
   "metadata": {},
   "source": [
    "# Notes "
   ]
  },
  {
   "cell_type": "markdown",
   "metadata": {},
   "source": [
    "## Syntax and semantic\n",
    "\n"
   ]
  },
  {
   "cell_type": "code",
   "execution_count": 17,
   "metadata": {},
   "outputs": [
    {
     "name": "stdout",
     "output_type": "stream",
     "text": [
      "Teresa\n",
      "\n",
      "Gutierrez\n"
     ]
    }
   ],
   "source": [
    "#Triple quotes are use for line break. \n",
    "\n",
    "name_1  = '''Teresa\n",
    "\n",
    "Gutierrez'''\n",
    "\n",
    "print(name_1)"
   ]
  },
  {
   "cell_type": "markdown",
   "metadata": {},
   "source": [
    "### String"
   ]
  },
  {
   "cell_type": "code",
   "execution_count": 16,
   "metadata": {},
   "outputs": [
    {
     "name": "stdout",
     "output_type": "stream",
     "text": [
      "T\n",
      "u\n",
      "Teresa MariuTeresa MariuTeresa MariuTeresa MariuTeresa Mariu\n",
      "Teresa Mariu Gutierrez Maestre\n",
      "12\n",
      "teresa mariu\n"
     ]
    }
   ],
   "source": [
    "#If  you want to know the position of each character in a string, you can use\n",
    "\n",
    "name = 'Teresa Mariu'\n",
    "last_name = 'Gutierrez Maestre'\n",
    "\n",
    "print(name[0])\n",
    "print(name[-1]) #From the las character of the string \n",
    "print (5* name) #Print 5 time variable\n",
    "print(name + \" \" + last_name)\n",
    "print (len(name)) #Length of the name}\n",
    "print(name.lower()) #All lowercase\n",
    "\n"
   ]
  },
  {
   "cell_type": "markdown",
   "metadata": {},
   "source": [
    "### Boolean, float and integer"
   ]
  },
  {
   "cell_type": "code",
   "execution_count": null,
   "metadata": {},
   "outputs": [],
   "source": [
    "#Type of variables\n",
    "\n",
    "x = 10\n",
    "y = 5.63\n",
    "z= 1.2e6\n",
    "a = 1.2E-6\n",
    "\n",
    "print(type(x))\n",
    "print(type(y))\n",
    "print(type(z))\n",
    "print(type(a))\n",
    "\n",
    "#Boolean\n",
    "\n",
    "is_true = True\n",
    "is_false = False\n",
    "\n",
    "print(type(is_true))\n",
    "\n",
    "edad = int(input('¿Cuántos años tienes?'))\n",
    "\n",
    "print(edad)\n",
    "\n"
   ]
  },
  {
   "cell_type": "markdown",
   "metadata": {},
   "source": [
    "### Math operations "
   ]
  },
  {
   "cell_type": "code",
   "execution_count": null,
   "metadata": {},
   "outputs": [],
   "source": [
    "#Operators\n",
    "a = 10\n",
    "b = 10\n",
    "print(\"Suma:\", a + b)\n",
    "print(\"Resta:\", a - b)\n",
    "print(\"Multiplicación:\", a * b)\n",
    "print(\"Potenciación:\", a ** b)\n",
    "print(\"División:\", a / b)\n",
    "print(\"Parte entera de la división:\", a // b)\n",
    "print(\"Módulo:\", a % b)\n",
    "a /= 2\n",
    "print(a)\n",
    "operation_1  = 2 + 3 * 4\n",
    "operation_2  = (2 + 3) * 4\n",
    "print(operation_1)\n",
    "print(operation_2)\n",
    "operation_3 = (2+3) * (4**2)/ 8 - 1\n",
    "print(operation_3)"
   ]
  },
  {
   "cell_type": "code",
   "execution_count": 1,
   "metadata": {},
   "outputs": [
    {
     "name": "stdout",
     "output_type": "stream",
     "text": [
      "True\n",
      "False\n",
      "True\n",
      "False\n",
      "False\n",
      "True\n"
     ]
    }
   ],
   "source": [
    "#Comparison operators\n",
    "\n",
    "a = 10\n",
    "b = 3\n",
    "print(a > b)\n",
    "print(a < b)\n",
    "print(a >= b)\n",
    "print(a <= b)\n",
    "print(a == b)\n",
    "print(a != b)"
   ]
  },
  {
   "cell_type": "markdown",
   "metadata": {},
   "source": [
    "### Input and output sentences "
   ]
  },
  {
   "cell_type": "code",
   "execution_count": null,
   "metadata": {},
   "outputs": [],
   "source": []
  },
  {
   "cell_type": "markdown",
   "metadata": {},
   "source": [
    "## Data Collection and Processing"
   ]
  },
  {
   "cell_type": "markdown",
   "metadata": {},
   "source": [
    "### lIST"
   ]
  },
  {
   "cell_type": "code",
   "execution_count": null,
   "metadata": {},
   "outputs": [],
   "source": []
  },
  {
   "cell_type": "markdown",
   "metadata": {},
   "source": [
    "### Slice Method"
   ]
  },
  {
   "cell_type": "code",
   "execution_count": null,
   "metadata": {},
   "outputs": [],
   "source": []
  },
  {
   "cell_type": "markdown",
   "metadata": {},
   "source": [
    "# List and Tuples"
   ]
  },
  {
   "cell_type": "code",
   "execution_count": null,
   "metadata": {},
   "outputs": [],
   "source": []
  },
  {
   "cell_type": "markdown",
   "metadata": {},
   "source": [
    "# Matrix"
   ]
  },
  {
   "cell_type": "code",
   "execution_count": null,
   "metadata": {},
   "outputs": [],
   "source": []
  },
  {
   "cell_type": "markdown",
   "metadata": {},
   "source": [
    "# Dictionary "
   ]
  },
  {
   "cell_type": "code",
   "execution_count": null,
   "metadata": {},
   "outputs": [],
   "source": []
  }
 ],
 "metadata": {
  "kernelspec": {
   "display_name": "Python 3",
   "language": "python",
   "name": "python3"
  },
  "language_info": {
   "codemirror_mode": {
    "name": "ipython",
    "version": 3
   },
   "file_extension": ".py",
   "mimetype": "text/x-python",
   "name": "python",
   "nbconvert_exporter": "python",
   "pygments_lexer": "ipython3",
   "version": "3.10.11"
  }
 },
 "nbformat": 4,
 "nbformat_minor": 2
}
