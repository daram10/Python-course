{
 "cells": [
  {
   "cell_type": "markdown",
   "metadata": {},
   "source": [
    "# Notes "
   ]
  },
  {
   "cell_type": "markdown",
   "metadata": {},
   "source": [
    "## Syntax and semantic\n",
    "\n"
   ]
  },
  {
   "cell_type": "code",
   "execution_count": 17,
   "metadata": {},
   "outputs": [
    {
     "name": "stdout",
     "output_type": "stream",
     "text": [
      "Teresa\n",
      "\n",
      "Gutierrez\n"
     ]
    }
   ],
   "source": [
    "#Triple quotes are use for line break. \n",
    "\n",
    "name_1  = '''Teresa\n",
    "\n",
    "Gutierrez'''\n",
    "\n",
    "print(name_1)"
   ]
  },
  {
   "cell_type": "markdown",
   "metadata": {},
   "source": [
    "### String"
   ]
  },
  {
   "cell_type": "code",
   "execution_count": 16,
   "metadata": {},
   "outputs": [
    {
     "name": "stdout",
     "output_type": "stream",
     "text": [
      "T\n",
      "u\n",
      "Teresa MariuTeresa MariuTeresa MariuTeresa MariuTeresa Mariu\n",
      "Teresa Mariu Gutierrez Maestre\n",
      "12\n",
      "teresa mariu\n"
     ]
    }
   ],
   "source": [
    "#If  you want to know the position of each character in a string, you can use\n",
    "\n",
    "name = 'Teresa Mariu'\n",
    "last_name = 'Gutierrez Maestre'\n",
    "\n",
    "print(name[0])\n",
    "print(name[-1]) #From the las character of the string \n",
    "print (5* name) #Print 5 time variable\n",
    "print(name + \" \" + last_name)\n",
    "print (len(name)) #Length of the name}\n",
    "print(name.lower()) #All lowercase\n",
    "\n"
   ]
  },
  {
   "cell_type": "markdown",
   "metadata": {},
   "source": [
    "### Boolean, float and integer"
   ]
  },
  {
   "cell_type": "code",
   "execution_count": null,
   "metadata": {},
   "outputs": [],
   "source": [
    "#Type of variables\n",
    "\n",
    "x = 10\n",
    "y = 5.63\n",
    "z= 1.2e6\n",
    "a = 1.2E-6\n",
    "\n",
    "print(type(x))\n",
    "print(type(y))\n",
    "print(type(z))\n",
    "print(type(a))\n",
    "\n",
    "#Boolean\n",
    "\n",
    "is_true = True\n",
    "is_false = False\n",
    "\n",
    "print(type(is_true))\n",
    "\n",
    "edad = int(input('¿Cuántos años tienes?'))\n",
    "\n",
    "print(edad)\n",
    "\n"
   ]
  },
  {
   "cell_type": "markdown",
   "metadata": {},
   "source": [
    "### Math operations "
   ]
  },
  {
   "cell_type": "code",
   "execution_count": null,
   "metadata": {},
   "outputs": [],
   "source": [
    "#Operators\n",
    "a = 10\n",
    "b = 10\n",
    "print(\"Suma:\", a + b)\n",
    "print(\"Resta:\", a - b)\n",
    "print(\"Multiplicación:\", a * b)\n",
    "print(\"Potenciación:\", a ** b)\n",
    "print(\"División:\", a / b)\n",
    "print(\"Parte entera de la división:\", a // b)\n",
    "print(\"Módulo:\", a % b)\n",
    "a /= 2\n",
    "print(a)\n",
    "operation_1  = 2 + 3 * 4\n",
    "operation_2  = (2 + 3) * 4\n",
    "print(operation_1)\n",
    "print(operation_2)\n",
    "operation_3 = (2+3) * (4**2)/ 8 - 1\n",
    "print(operation_3)"
   ]
  },
  {
   "cell_type": "code",
   "execution_count": 1,
   "metadata": {},
   "outputs": [
    {
     "name": "stdout",
     "output_type": "stream",
     "text": [
      "True\n",
      "False\n",
      "True\n",
      "False\n",
      "False\n",
      "True\n"
     ]
    }
   ],
   "source": [
    "#Comparison operators\n",
    "\n",
    "a = 10\n",
    "b = 3\n",
    "print(a > b)\n",
    "print(a < b)\n",
    "print(a >= b)\n",
    "print(a <= b)\n",
    "print(a == b)\n",
    "print(a != b)"
   ]
  },
  {
   "cell_type": "markdown",
   "metadata": {},
   "source": [
    "### Input and output sentences "
   ]
  },
  {
   "cell_type": "code",
   "execution_count": 1,
   "metadata": {},
   "outputs": [
    {
     "name": "stdout",
     "output_type": "stream",
     "text": [
      "\n",
      "<class 'str'>\n"
     ]
    },
    {
     "ename": "KeyboardInterrupt",
     "evalue": "Interrupted by user",
     "output_type": "error",
     "traceback": [
      "\u001b[1;31m---------------------------------------------------------------------------\u001b[0m",
      "\u001b[1;31mKeyboardInterrupt\u001b[0m                         Traceback (most recent call last)",
      "Cell \u001b[1;32mIn[1], line 4\u001b[0m\n\u001b[0;32m      2\u001b[0m \u001b[38;5;28mprint\u001b[39m(name_1)\n\u001b[0;32m      3\u001b[0m \u001b[38;5;28mprint\u001b[39m(\u001b[38;5;28mtype\u001b[39m(name_1))\n\u001b[1;32m----> 4\u001b[0m age_1 \u001b[38;5;241m=\u001b[39m \u001b[38;5;28mint\u001b[39m(\u001b[38;5;28;43minput\u001b[39;49m\u001b[43m(\u001b[49m\u001b[38;5;124;43m\"\u001b[39;49m\u001b[38;5;124;43mIngrese su edad: \u001b[39;49m\u001b[38;5;124;43m\"\u001b[39;49m\u001b[43m)\u001b[49m)\n\u001b[0;32m      5\u001b[0m \u001b[38;5;28mprint\u001b[39m(\u001b[38;5;28mtype\u001b[39m(age_1))\n",
      "File \u001b[1;32m~\\AppData\\Local\\Packages\\PythonSoftwareFoundation.Python.3.10_qbz5n2kfra8p0\\LocalCache\\local-packages\\Python310\\site-packages\\ipykernel\\kernelbase.py:1282\u001b[0m, in \u001b[0;36mKernel.raw_input\u001b[1;34m(self, prompt)\u001b[0m\n\u001b[0;32m   1280\u001b[0m     msg \u001b[38;5;241m=\u001b[39m \u001b[38;5;124m\"\u001b[39m\u001b[38;5;124mraw_input was called, but this frontend does not support input requests.\u001b[39m\u001b[38;5;124m\"\u001b[39m\n\u001b[0;32m   1281\u001b[0m     \u001b[38;5;28;01mraise\u001b[39;00m StdinNotImplementedError(msg)\n\u001b[1;32m-> 1282\u001b[0m \u001b[38;5;28;01mreturn\u001b[39;00m \u001b[38;5;28;43mself\u001b[39;49m\u001b[38;5;241;43m.\u001b[39;49m\u001b[43m_input_request\u001b[49m\u001b[43m(\u001b[49m\n\u001b[0;32m   1283\u001b[0m \u001b[43m    \u001b[49m\u001b[38;5;28;43mstr\u001b[39;49m\u001b[43m(\u001b[49m\u001b[43mprompt\u001b[49m\u001b[43m)\u001b[49m\u001b[43m,\u001b[49m\n\u001b[0;32m   1284\u001b[0m \u001b[43m    \u001b[49m\u001b[38;5;28;43mself\u001b[39;49m\u001b[38;5;241;43m.\u001b[39;49m\u001b[43m_parent_ident\u001b[49m\u001b[43m[\u001b[49m\u001b[38;5;124;43m\"\u001b[39;49m\u001b[38;5;124;43mshell\u001b[39;49m\u001b[38;5;124;43m\"\u001b[39;49m\u001b[43m]\u001b[49m\u001b[43m,\u001b[49m\n\u001b[0;32m   1285\u001b[0m \u001b[43m    \u001b[49m\u001b[38;5;28;43mself\u001b[39;49m\u001b[38;5;241;43m.\u001b[39;49m\u001b[43mget_parent\u001b[49m\u001b[43m(\u001b[49m\u001b[38;5;124;43m\"\u001b[39;49m\u001b[38;5;124;43mshell\u001b[39;49m\u001b[38;5;124;43m\"\u001b[39;49m\u001b[43m)\u001b[49m\u001b[43m,\u001b[49m\n\u001b[0;32m   1286\u001b[0m \u001b[43m    \u001b[49m\u001b[43mpassword\u001b[49m\u001b[38;5;241;43m=\u001b[39;49m\u001b[38;5;28;43;01mFalse\u001b[39;49;00m\u001b[43m,\u001b[49m\n\u001b[0;32m   1287\u001b[0m \u001b[43m\u001b[49m\u001b[43m)\u001b[49m\n",
      "File \u001b[1;32m~\\AppData\\Local\\Packages\\PythonSoftwareFoundation.Python.3.10_qbz5n2kfra8p0\\LocalCache\\local-packages\\Python310\\site-packages\\ipykernel\\kernelbase.py:1325\u001b[0m, in \u001b[0;36mKernel._input_request\u001b[1;34m(self, prompt, ident, parent, password)\u001b[0m\n\u001b[0;32m   1322\u001b[0m \u001b[38;5;28;01mexcept\u001b[39;00m \u001b[38;5;167;01mKeyboardInterrupt\u001b[39;00m:\n\u001b[0;32m   1323\u001b[0m     \u001b[38;5;66;03m# re-raise KeyboardInterrupt, to truncate traceback\u001b[39;00m\n\u001b[0;32m   1324\u001b[0m     msg \u001b[38;5;241m=\u001b[39m \u001b[38;5;124m\"\u001b[39m\u001b[38;5;124mInterrupted by user\u001b[39m\u001b[38;5;124m\"\u001b[39m\n\u001b[1;32m-> 1325\u001b[0m     \u001b[38;5;28;01mraise\u001b[39;00m \u001b[38;5;167;01mKeyboardInterrupt\u001b[39;00m(msg) \u001b[38;5;28;01mfrom\u001b[39;00m \u001b[38;5;28;01mNone\u001b[39;00m\n\u001b[0;32m   1326\u001b[0m \u001b[38;5;28;01mexcept\u001b[39;00m \u001b[38;5;167;01mException\u001b[39;00m:\n\u001b[0;32m   1327\u001b[0m     \u001b[38;5;28mself\u001b[39m\u001b[38;5;241m.\u001b[39mlog\u001b[38;5;241m.\u001b[39mwarning(\u001b[38;5;124m\"\u001b[39m\u001b[38;5;124mInvalid Message:\u001b[39m\u001b[38;5;124m\"\u001b[39m, exc_info\u001b[38;5;241m=\u001b[39m\u001b[38;5;28;01mTrue\u001b[39;00m)\n",
      "\u001b[1;31mKeyboardInterrupt\u001b[0m: Interrupted by user"
     ]
    }
   ],
   "source": [
    "name_1 = input(\"Ingrese su nombre: \")\n",
    "print(name_1)\n",
    "print(type(name_1))\n",
    "age_1 = int(input(\"Ingrese su edad: \"))\n",
    "print(type(age_1))"
   ]
  },
  {
   "cell_type": "markdown",
   "metadata": {},
   "source": [
    "## Data Collection and Processing"
   ]
  },
  {
   "cell_type": "markdown",
   "metadata": {},
   "source": [
    "### List\n",
    "\n",
    "Imagina que vas a realizar un viajes y necesitas saber que vas a llevar, la clase lista sirve para almacenar las cosas que necesitamos o también que queremos hacer "
   ]
  },
  {
   "cell_type": "code",
   "execution_count": 4,
   "metadata": {},
   "outputs": [
    {
     "name": "stdout",
     "output_type": "stream",
     "text": [
      "['llegar al hotel', 'Ir a almorzar', 'Visitar a la abuela']\n",
      "<class 'list'>\n"
     ]
    }
   ],
   "source": [
    "to_do = [\"llegar al hotel\",\n",
    "         \"Ir a almorzar\",\n",
    "         \"Visitar a la abuela\"]\n",
    "\n",
    "print(to_do)\n",
    "\n",
    "# To know the data type\n",
    "\n",
    "print(type(to_do))\n"
   ]
  },
  {
   "cell_type": "code",
   "execution_count": 13,
   "metadata": {},
   "outputs": [
    {
     "name": "stdout",
     "output_type": "stream",
     "text": [
      "['one', 2, 3.4, True, [1, 2, 3]]\n",
      "5\n",
      "Primer elemento: one\n",
      "Segundo elemento: 2\n",
      "Ultimo elemento: [1, 2, 3]\n"
     ]
    }
   ],
   "source": [
    "# the class list can have different variables types in the element.\n",
    "\n",
    "mix = ['one', 2, 3.4, True, [1,2,3]]\n",
    "\n",
    "print(mix)\n",
    "\n",
    "#Si queremos saber  cuantos elementos hay \n",
    "\n",
    "print(len(mix))\n",
    "\n",
    "# Ahora queremos saber el elemento de la posicion X, escribimos el comando>\n",
    "\n",
    "print(\"Primer elemento:\", mix[0])\n",
    "print(\"Segundo elemento:\", mix[1])\n",
    "print(\"Ultimo elemento:\", mix[-1])"
   ]
  },
  {
   "cell_type": "code",
   "execution_count": 20,
   "metadata": {},
   "outputs": [
    {
     "name": "stdout",
     "output_type": "stream",
     "text": [
      "['one', 2]\n",
      "[3.4, True, [1, 2, 3]]\n",
      "[3.4]\n"
     ]
    }
   ],
   "source": [
    "# Slicing: cuando queremos informacion entre una posicion a otra ejm\n",
    "# Posicion del inicio hasta el 2\n",
    "print(mix[:2])\n",
    "\n",
    "#Posicion del 2 al final \n",
    "print(mix[2:])\n",
    "\n",
    "print(mix[2:-2])\n"
   ]
  },
  {
   "cell_type": "code",
   "execution_count": 22,
   "metadata": {},
   "outputs": [
    {
     "name": "stdout",
     "output_type": "stream",
     "text": [
      "['one', 2, 3.4, True, [1, 2, 3], False, False]\n"
     ]
    }
   ],
   "source": [
    "# Agregando elementos a la lista\n",
    "\n",
    "# Con el append agrego al final de la lista por default \n",
    "\n",
    "mix.append(False)\n",
    "\n",
    "print(mix)"
   ]
  },
  {
   "cell_type": "code",
   "execution_count": 23,
   "metadata": {},
   "outputs": [
    {
     "name": "stdout",
     "output_type": "stream",
     "text": [
      "['one', 2, 3.4, True, [1, 2, 3], False, False, ['a', 'b']]\n"
     ]
    }
   ],
   "source": [
    "mix.append(['a','b'])\n",
    "print(mix)"
   ]
  },
  {
   "cell_type": "code",
   "execution_count": 25,
   "metadata": {},
   "outputs": [
    {
     "name": "stdout",
     "output_type": "stream",
     "text": [
      "['one', ['c', 'd'], 2, 3.4, True, [1, 2, 3], False, False, ['a', 'b']]\n"
     ]
    }
   ],
   "source": [
    "# Si quiero adicionar en una posicion particular \n",
    "mix.insert(1, ['c','d'])\n",
    "print(mix)"
   ]
  },
  {
   "cell_type": "code",
   "execution_count": 26,
   "metadata": {},
   "outputs": [
    {
     "name": "stdout",
     "output_type": "stream",
     "text": [
      "6\n"
     ]
    }
   ],
   "source": [
    "#Cuando hay dos elementos iguales en el index trae la primera posicion del que se repite\n",
    "print(mix.index(False))"
   ]
  },
  {
   "cell_type": "code",
   "execution_count": 1,
   "metadata": {},
   "outputs": [
    {
     "name": "stdout",
     "output_type": "stream",
     "text": [
      "[1, 2, 100.01, 90.45, 3, 4, 5]\n",
      "Mayor: 100.01\n",
      "Menor: 1\n",
      "[1, 2, 100.01, 90.45, 3, 4]\n",
      "[100.01, 90.45, 3, 4]\n"
     ]
    }
   ],
   "source": [
    "numbers = [1,2,100.01,90.45,3,4, 5]\n",
    "print(numbers)\n",
    "print(\"Mayor:\",max(numbers))\n",
    "print(\"Menor:\",min(numbers))\n",
    "del numbers[-1]\n",
    "print(numbers)\n",
    "del numbers[:2]\n",
    "print(numbers)\n",
    "del numbers\n",
    "#print(numbers)"
   ]
  },
  {
   "cell_type": "markdown",
   "metadata": {},
   "source": [
    "### Slice Method\n",
    "\n",
    "El slicing es una operación que permite extraer una subsección de una secuencia (como una lista, cadena o tupla) especificando un rango de índices. Esta operación no modifica la secuencia original, sino que devuelve una nueva secuencia con los elementos seleccionados.\n",
    "\n",
    "$$\n",
    "secuencia[inicio:fin:paso]\n",
    "$$\n",
    "\n",
    "\n",
    "`numeros = [0, 1, 2, 3, 4, 5, 6, 7, 8, 9, 10]`\n",
    "\n",
    "`print(numeros[0:10:2])  # Output: [0, 2, 4, 6, 8]`\n",
    "\n",
    "\n",
    "#### Analogía del Slicing con una Barra de Pan\n",
    "**La Barra de Pan (Secuencia):**\n",
    "\n",
    "La barra de pan representa tu secuencia en Python, que puede ser una lista, cadena de caracteres, o tupla.\n",
    "\n",
    "**El Cuchillo (Operador de Slicing):**\n",
    "\n",
    "El cuchillo es el operador de slicing : que usas para cortar la barra de pan.\n",
    "\n",
    "**Inicio (start):**\n",
    "\n",
    "El punto donde empiezas a cortar la barra de pan. En términos de slicing, este es el índice de inicio.\n",
    "\n",
    "Ejemplo: `pan[2:]` empieza a cortar desde la tercera rebanada (índice 2).\n",
    "\n",
    "**Fin (stop):**\n",
    "El punto donde dejas de cortar. En slicing, este es el índice de fin, pero no se incluye en el resultado.\n",
    "\n",
    "Ejemplo: `pan[:5]` corta desde el inicio hasta la quinta rebanada (índice 4).\n",
    "\n",
    "**Paso (step):**\n",
    "La cantidad de rebanadas que saltas entre cada corte. En slicing, este es el paso.\n",
    "\n",
    "Ejemplo: `pan[::2]` corta cada segunda rebanada."
   ]
  },
  {
   "cell_type": "code",
   "execution_count": 2,
   "metadata": {},
   "outputs": [
    {
     "name": "stdout",
     "output_type": "stream",
     "text": [
      "[1, 2, 3, 4, 5]\n",
      "[1, 2, 3, 4, 5]\n"
     ]
    }
   ],
   "source": [
    "a = [1,2,3,4,5]\n",
    "b = a\n",
    "print(a)\n",
    "print(b)\n"
   ]
  },
  {
   "cell_type": "code",
   "execution_count": 3,
   "metadata": {},
   "outputs": [
    {
     "name": "stdout",
     "output_type": "stream",
     "text": [
      "2133095015744\n",
      "2133095015744\n"
     ]
    }
   ],
   "source": [
    "#Acá está el mismo espacio en memoria \n",
    "del a[0]\n",
    "print(id(a))\n",
    "print(id(b))\n"
   ]
  },
  {
   "cell_type": "code",
   "execution_count": 4,
   "metadata": {},
   "outputs": [
    {
     "name": "stdout",
     "output_type": "stream",
     "text": [
      "2133095015744\n",
      "2133095015744\n",
      "2133095647872\n"
     ]
    }
   ],
   "source": [
    "c = a[:] #Acá se está copiando toda la información que hay desde la posición 0 hasta el final\n",
    "print(id(a))\n",
    "print(id(b))\n",
    "print(id(c)) #Este slicing permite que el almacenamiento en memorioa sea diferente\n"
   ]
  },
  {
   "cell_type": "code",
   "execution_count": 5,
   "metadata": {},
   "outputs": [
    {
     "name": "stdout",
     "output_type": "stream",
     "text": [
      "[2, 3, 4, 5, 6]\n",
      "[2, 3, 4, 5, 6]\n",
      "[2, 3, 4, 5]\n"
     ]
    }
   ],
   "source": [
    "a.append(6)\n",
    "print(a)\n",
    "print(b)\n",
    "print(c) #En C ya no se agrega, porque mantiene el slicing la lista original"
   ]
  },
  {
   "cell_type": "code",
   "execution_count": 6,
   "metadata": {},
   "outputs": [
    {
     "name": "stdout",
     "output_type": "stream",
     "text": [
      "2133095015744\n",
      "2133095015744\n",
      "2133095647872\n"
     ]
    }
   ],
   "source": [
    "print(id(a))\n",
    "print(id(b))\n",
    "print(id(c))"
   ]
  },
  {
   "cell_type": "markdown",
   "metadata": {},
   "source": [
    "### List and Tuples\n",
    "\n",
    "* Las listas de listas son matrices.\n",
    "* Primero van las filas y despues las columnas [filas] [columnas]\n",
    "* Recordar que acá inician desde 0 las posiciones \n",
    "* Las tuplas son inmutables\n",
    "\n",
    "##### Analogia \n",
    "\n",
    "**Caja de Herramientas de Plástico (Lista)**\n",
    "\n",
    "Lista: Es como una caja de herramientas de plástico. Puedes abrirla y cambiar las herramientas dentro de ella en cualquier momento. Puedes agregar nuevas herramientas, quitar las que ya no necesitas y reorganizarlas como quieras.\n",
    "\n",
    "**Caja de Herramientas de Metal (Tupla)**\n",
    "Tupla: Es como una caja de herramientas de metal sellada. Una vez que pones las herramientas dentro y cierras la caja, no puedes cambiar lo que hay dentro. No puedes agregar nuevas herramientas, quitar las que ya están o reorganizarlas.\n",
    "\n",
    "##### Similitudes\n",
    "\n",
    "1. **Colecciones Ordenadas:** Tanto las listas como las tuplas son colecciones ordenadas de elementos. Esto significa que los elementos tienen un orden específico y puedes acceder a ellos usando índices.\n",
    "\n",
    "2. **Pueden Contener Diferentes Tipos de Datos:** Ambas pueden almacenar diferentes tipos de datos, como números, cadenas, e incluso otras listas o tuplas.\n",
    "\n",
    "##### Diferencias\n",
    "\n",
    "1. **Mutabilidad:**\n",
    "Listas: Son mutables, lo que significa que puedes cambiar sus elementos después de haberlas creado.\n",
    "Tuplas: Son inmutables, lo que significa que no puedes cambiar sus elementos después de haberlas creado.\n",
    "\n",
    "2. **Uso de Memoria y Eficiencia:**\n",
    "Listas: Ocupan más memoria porque están diseñadas para ser dinámicas y permitir cambios.\n",
    "Tuplas: Ocupan menos memoria y son más rápidas de procesar porque son inmutables.\n",
    "\n",
    "3. **Funciones y Métodos:**\n",
    "Listas: Tienen más métodos disponibles para manipular los datos, como append(), remove(), sort(), etc.\n",
    "Tuplas: Tienen menos métodos porque no se pueden modificar después de su creación."
   ]
  },
  {
   "cell_type": "code",
   "execution_count": 7,
   "metadata": {},
   "outputs": [
    {
     "name": "stdout",
     "output_type": "stream",
     "text": [
      "8\n"
     ]
    }
   ],
   "source": [
    "matrix = [[1,2,3],\n",
    "          [4,5,6],\n",
    "          [7,8,9]]\n",
    "print(matrix[2][1])\n"
   ]
  },
  {
   "cell_type": "code",
   "execution_count": 8,
   "metadata": {},
   "outputs": [
    {
     "name": "stdout",
     "output_type": "stream",
     "text": [
      "(1, 2, 3, 4, 5)\n",
      "<class 'tuple'>\n",
      "1\n"
     ]
    }
   ],
   "source": [
    "numbers = 1,2,3,4,5 #Así se identifican las tuplas\n",
    "\n",
    "print(numbers)\n",
    "print(type(numbers))\n",
    "print(numbers[0])\n"
   ]
  },
  {
   "cell_type": "code",
   "execution_count": 9,
   "metadata": {},
   "outputs": [
    {
     "ename": "TypeError",
     "evalue": "'tuple' object does not support item assignment",
     "output_type": "error",
     "traceback": [
      "\u001b[1;31m---------------------------------------------------------------------------\u001b[0m",
      "\u001b[1;31mTypeError\u001b[0m                                 Traceback (most recent call last)",
      "\u001b[1;32m~\\AppData\\Local\\Temp/ipykernel_2916/386177730.py\u001b[0m in \u001b[0;36m<module>\u001b[1;34m\u001b[0m\n\u001b[0;32m      2\u001b[0m \u001b[1;31m# de metal con candado que la llave se perdió y lo que quedó allí no se puede modificar)\u001b[0m\u001b[1;33m\u001b[0m\u001b[1;33m\u001b[0m\u001b[0m\n\u001b[0;32m      3\u001b[0m \u001b[1;33m\u001b[0m\u001b[0m\n\u001b[1;32m----> 4\u001b[1;33m \u001b[0mnumbers\u001b[0m\u001b[1;33m[\u001b[0m\u001b[1;36m0\u001b[0m\u001b[1;33m]\u001b[0m \u001b[1;33m=\u001b[0m \u001b[1;34m'unos'\u001b[0m\u001b[1;33m\u001b[0m\u001b[1;33m\u001b[0m\u001b[0m\n\u001b[0m\u001b[0;32m      5\u001b[0m \u001b[0mprint\u001b[0m\u001b[1;33m(\u001b[0m\u001b[0mnumbers\u001b[0m\u001b[1;33m)\u001b[0m\u001b[1;33m\u001b[0m\u001b[1;33m\u001b[0m\u001b[0m\n",
      "\u001b[1;31mTypeError\u001b[0m: 'tuple' object does not support item assignment"
     ]
    }
   ],
   "source": [
    "#Como se mencionó arriba las tuplas son inmutables (es decir, son como en una caja de herramientas \n",
    "# de metal con candado que la llave se perdió y lo que quedó allí no se puede modificar)\n",
    "\n",
    "numbers[0] = 'unos'\n",
    "print(numbers)"
   ]
  },
  {
   "cell_type": "markdown",
   "metadata": {},
   "source": [
    "# Dictionary \n",
    "\n",
    "* Los diccionarios como en la vida real tienen una llave y una definición. En la vida cotidiana la llave es una palabra que se usa constantemente (se une al lenguaje) y esa llave tiene una definición. \n",
    "\n",
    "* Estos se usan mucho en el Ecommerce "
   ]
  },
  {
   "cell_type": "code",
   "execution_count": 11,
   "metadata": {},
   "outputs": [
    {
     "name": "stdout",
     "output_type": "stream",
     "text": [
      "dos\n"
     ]
    }
   ],
   "source": [
    "numbers = {1:\"uno\", 2:\"dos\", 3:\"tres\"}\n",
    "print(numbers[2])\n"
   ]
  },
  {
   "cell_type": "code",
   "execution_count": 12,
   "metadata": {},
   "outputs": [
    {
     "name": "stdout",
     "output_type": "stream",
     "text": [
      "{'nombre': 'Carla', 'Apellido': 'Florida', 'Altura': 1.6, 'Edad': 29}\n"
     ]
    }
   ],
   "source": [
    "information = {\"nombre\": \"Carla\",\n",
    "               \"Apellido\": \"Florida\",\n",
    "               \"Altura\": 1.60,\n",
    "               \"Edad\": 29}\n",
    "print(information)\n"
   ]
  },
  {
   "cell_type": "code",
   "execution_count": 13,
   "metadata": {},
   "outputs": [
    {
     "name": "stdout",
     "output_type": "stream",
     "text": [
      "{'nombre': 'Carla', 'Apellido': 'Florida', 'Altura': 1.6}\n"
     ]
    }
   ],
   "source": [
    "del information[\"Edad\"]\n",
    "print(information)\n"
   ]
  },
  {
   "cell_type": "code",
   "execution_count": 15,
   "metadata": {},
   "outputs": [
    {
     "name": "stdout",
     "output_type": "stream",
     "text": [
      "dict_keys(['nombre', 'Apellido', 'Altura'])\n",
      "<class 'dict_keys'>\n"
     ]
    }
   ],
   "source": [
    "claves = information.keys() #keys es un metodo\n",
    "print(claves)\n",
    "print(type(claves)) #Con este tenemos información sobre el tipo de dato\n"
   ]
  },
  {
   "cell_type": "code",
   "execution_count": 16,
   "metadata": {},
   "outputs": [
    {
     "name": "stdout",
     "output_type": "stream",
     "text": [
      "dict_values(['Carla', 'Florida', 1.6])\n"
     ]
    }
   ],
   "source": [
    "values = information.values() #values es otro metodo de los diccionarios\n",
    "print(values)\n"
   ]
  },
  {
   "cell_type": "code",
   "execution_count": 17,
   "metadata": {},
   "outputs": [
    {
     "name": "stdout",
     "output_type": "stream",
     "text": [
      "dict_items([('nombre', 'Carla'), ('Apellido', 'Florida'), ('Altura', 1.6)])\n"
     ]
    }
   ],
   "source": [
    "pairs = information.items()\n",
    "print(pairs)\n"
   ]
  },
  {
   "cell_type": "code",
   "execution_count": 21,
   "metadata": {},
   "outputs": [],
   "source": [
    "#Vamos a agregar un nuevo contacto en nuestra libreta de contactos\n",
    "\n",
    "contacts = [\n",
    "    {\n",
    "        \"nombre\": \"Carla\",\n",
    "        \"Apellido\": \"Florida\",\n",
    "        \"Altura\": 1.60,\n",
    "        \"Edad\": 29\n",
    "    },\n",
    "    {\n",
    "        \"nombre\":\"Diego\",\n",
    "        \"Apellido\": \"Antezana\",\n",
    "        \"Altura\": 1.80,\n",
    "        \"Edad\": 32\n",
    "    }\n",
    "    ]"
   ]
  },
  {
   "cell_type": "code",
   "execution_count": 22,
   "metadata": {},
   "outputs": [
    {
     "name": "stdout",
     "output_type": "stream",
     "text": [
      "{'Apellido': 'Florida', 'Altura': 1.6, 'Edad': 29}\n"
     ]
    }
   ],
   "source": [
    "\n",
    "contacts = {\"Carla\": {\"Apellido\": \"Florida\", #Carla viene a ser el indice \n",
    "               \"Altura\": 1.60,\n",
    "               \"Edad\": 29},\n",
    "                \"Diego\": {\"Apellido\": \"Antezana\",\n",
    "               \"Altura\": 1.80,\n",
    "               \"Edad\": 32}}\n",
    "print(contacts[\"Carla\"])"
   ]
  },
  {
   "cell_type": "markdown",
   "metadata": {},
   "source": [
    "### Comprehension List en Python\n",
    "\n"
   ]
  },
  {
   "cell_type": "code",
   "execution_count": null,
   "metadata": {},
   "outputs": [],
   "source": []
  },
  {
   "cell_type": "markdown",
   "metadata": {},
   "source": [
    "## Funciones y Manejo de excepciones"
   ]
  },
  {
   "cell_type": "markdown",
   "metadata": {},
   "source": [
    "### Uso de funciones"
   ]
  },
  {
   "cell_type": "code",
   "execution_count": null,
   "metadata": {},
   "outputs": [],
   "source": []
  },
  {
   "cell_type": "markdown",
   "metadata": {},
   "source": [
    "### Funciones Lambda y programación funcional "
   ]
  },
  {
   "cell_type": "code",
   "execution_count": null,
   "metadata": {},
   "outputs": [],
   "source": []
  },
  {
   "cell_type": "markdown",
   "metadata": {},
   "source": [
    "### Manejo de excepciones"
   ]
  },
  {
   "cell_type": "code",
   "execution_count": null,
   "metadata": {},
   "outputs": [],
   "source": []
  },
  {
   "cell_type": "markdown",
   "metadata": {},
   "source": [
    "### Funciones recursivas"
   ]
  },
  {
   "cell_type": "code",
   "execution_count": null,
   "metadata": {},
   "outputs": [],
   "source": []
  },
  {
   "cell_type": "markdown",
   "metadata": {},
   "source": [
    "### Pass"
   ]
  },
  {
   "cell_type": "code",
   "execution_count": null,
   "metadata": {},
   "outputs": [],
   "source": []
  }
 ],
 "metadata": {
  "kernelspec": {
   "display_name": "Python 3",
   "language": "python",
   "name": "python3"
  },
  "language_info": {
   "codemirror_mode": {
    "name": "ipython",
    "version": 3
   },
   "file_extension": ".py",
   "mimetype": "text/x-python",
   "name": "python",
   "nbconvert_exporter": "python",
   "pygments_lexer": "ipython3",
   "version": "3.9.7"
  }
 },
 "nbformat": 4,
 "nbformat_minor": 2
}
